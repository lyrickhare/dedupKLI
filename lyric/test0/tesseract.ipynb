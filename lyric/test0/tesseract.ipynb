{
 "cells": [
  {
   "cell_type": "code",
   "execution_count": 2,
   "metadata": {},
   "outputs": [],
   "source": [
    "import json\n",
    "import pytesseract\n",
    "import cv2\n",
    "import numpy as np\n",
    "import sys\n",
    "import re\n",
    "import os\n",
    "from PIL import Image\n",
    "import ftfy\n",
    "# import pan_read           \n",
    "# '''module which we made to read the text of the document'''\n",
    "# import aadhaar_read\n",
    "import io"
   ]
  },
  {
   "cell_type": "code",
   "execution_count": null,
   "metadata": {},
   "outputs": [],
   "source": [
    "def var(imgPath):\n",
    "    img = cv2.imread(\"image.jpg\")\n",
    "    #img = cv2.resize(img, None, fx=2, fy=2,interpolation=cv2.INTER_CUBIC)\n",
    "    img = cv2.cvtColor(img, cv2.COLOR_BGR2GRAY)\n",
    "    var = cv2.Laplacian(img, cv2.CV_64F).var()\n",
    "if(var(img1)<var(img2)):\n",
    "    print(\"img1 is blurry\")\n",
    "else:\n",
    "    print(\"img2 is blurry\")"
   ]
  },
  {
   "cell_type": "code",
   "execution_count": 3,
   "metadata": {},
   "outputs": [],
   "source": [
    "img = cv2.imread(\"image.jpg\")\n",
    "img = cv2.resize(img, None, fx=2, fy=2,interpolation=cv2.INTER_CUBIC)\n",
    "img = cv2.cvtColor(img, cv2.COLOR_BGR2GRAY)\n",
    "var = cv2.Laplacian(img, cv2.CV_64F).var()\n",
    "if var < 50:\n",
    "    print(\"Image is Too Blurry....\")\n",
    "    k= input('Press Enter to Exit.')\n",
    "    exit(1)"
   ]
  },
  {
   "cell_type": "code",
   "execution_count": 4,
   "metadata": {},
   "outputs": [
    {
     "data": {
      "text/plain": [
       "69.3816660884368"
      ]
     },
     "execution_count": 4,
     "metadata": {},
     "output_type": "execute_result"
    }
   ],
   "source": [
    "var"
   ]
  },
  {
   "cell_type": "code",
   "execution_count": 15,
   "metadata": {},
   "outputs": [],
   "source": [
    "filename = \"image.jpg\"\n",
    "pytesseract.pytesseract.tesseract_cmd = 'C:/Program Files/Tesseract-OCR/tesseract.exe'\n",
    "text = pytesseract.image_to_string(Image.open(filename), lang = 'eng+hin')\n",
    "\n",
    "text_output = open('output.txt', 'w', encoding='utf-8')\n",
    "text_output.write(text)\n",
    "text_output.close()\n",
    "\n",
    "file = open('output.txt', 'r', encoding='utf-8')\n",
    "text = file.read()\n",
    "\n",
    "text = ftfy.fix_text(text)\n",
    "text = ftfy.fix_encoding(text)"
   ]
  },
  {
   "cell_type": "code",
   "execution_count": 16,
   "metadata": {},
   "outputs": [
    {
     "data": {
      "text/plain": [
       "\"ia विभाग bid * FRA सरकार\\nINCOME TAX DEPARTMENT 65% GOVT. OFINDIA\\nस्थायी लेखा संख्या कार्ड\\nPermanent Account Number Card\\nKBQPK9459A\\n\\nनाम | Name\\nLYRIC KHARE\\n\\nपिता का नाम / Father's Name\\nUMASHANKAR KHARE -. --.---\\n\\n\""
      ]
     },
     "execution_count": 16,
     "metadata": {},
     "output_type": "execute_result"
    }
   ],
   "source": [
    "text"
   ]
  },
  {
   "cell_type": "code",
   "execution_count": 17,
   "metadata": {},
   "outputs": [
    {
     "data": {
      "text/plain": [
       "['ia विभाग bid * FRA सरकार',\n",
       " 'INCOME TAX DEPARTMENT 65% GOVT. OFINDIA',\n",
       " 'स्थायी लेखा संख्या कार्ड',\n",
       " 'Permanent Account Number Card',\n",
       " 'KBQPK9459A',\n",
       " '',\n",
       " 'नाम | Name',\n",
       " 'LYRIC KHARE',\n",
       " '',\n",
       " \"पिता का नाम / Father's Name\",\n",
       " 'UMASHANKAR KHARE -. --.---',\n",
       " '',\n",
       " '']"
      ]
     },
     "execution_count": 17,
     "metadata": {},
     "output_type": "execute_result"
    }
   ],
   "source": [
    "text.split('\\n')"
   ]
  },
  {
   "attachments": {},
   "cell_type": "markdown",
   "metadata": {},
   "source": [
    "# Fuzzy matching"
   ]
  },
  {
   "cell_type": "code",
   "execution_count": 18,
   "metadata": {},
   "outputs": [],
   "source": [
    "def listToString(s):\n",
    "    str1 = \"\"\n",
    "    return (str1.join(s).lower())"
   ]
  },
  {
   "cell_type": "code",
   "execution_count": 27,
   "metadata": {},
   "outputs": [],
   "source": [
    "text_str = listToString(text)\n",
    "text_str_mod = \"ia विभाग bid * fra सरकार\\nimoane tax department 65% govt. ofindia\\nस्थायी लेखा संख्या कार्ड\\npermanent account number card\\nkbqpk9459a\\n\\nनाम | name\\n1yric khare\\n\\nपिता का नाम / father's name\\numashankar khare -. --.---\\n\\n\""
   ]
  },
  {
   "attachments": {},
   "cell_type": "markdown",
   "metadata": {},
   "source": [
    "## Algo1"
   ]
  },
  {
   "cell_type": "code",
   "execution_count": 21,
   "metadata": {},
   "outputs": [],
   "source": [
    "import regex"
   ]
  },
  {
   "cell_type": "code",
   "execution_count": 33,
   "metadata": {},
   "outputs": [],
   "source": [
    "def fuzzy_substring_search( major, minor, errs = 5 ):\n",
    "    errs_ = 0\n",
    "    s = regex.search(f\"({minor}){{e<={errs_}}}\", major)\n",
    "    while s is None and errs_ <= errs:\n",
    "        errs_ += 1\n",
    "        s = regex.search(f\"({minor}){{e<={errs_}}}\", major)\n",
    "    return s"
   ]
  },
  {
   "cell_type": "code",
   "execution_count": 23,
   "metadata": {},
   "outputs": [],
   "source": [
    "s = fuzzy_substring_search(text_str, \"income\" )"
   ]
  },
  {
   "cell_type": "code",
   "execution_count": 24,
   "metadata": {},
   "outputs": [
    {
     "data": {
      "text/plain": [
       "'income'"
      ]
     },
     "execution_count": 24,
     "metadata": {},
     "output_type": "execute_result"
    }
   ],
   "source": [
    "s.groups()[0]"
   ]
  },
  {
   "cell_type": "code",
   "execution_count": 34,
   "metadata": {},
   "outputs": [],
   "source": [
    "s1 = fuzzy_substring_search(text_str_mod, \"income\")"
   ]
  },
  {
   "cell_type": "code",
   "execution_count": 35,
   "metadata": {},
   "outputs": [
    {
     "data": {
      "text/plain": [
       "' name'"
      ]
     },
     "execution_count": 35,
     "metadata": {},
     "output_type": "execute_result"
    }
   ],
   "source": [
    "s1.groups()[0]"
   ]
  },
  {
   "attachments": {},
   "cell_type": "markdown",
   "metadata": {},
   "source": [
    "# Algo2"
   ]
  },
  {
   "cell_type": "code",
   "execution_count": 81,
   "metadata": {},
   "outputs": [
    {
     "name": "stdout",
     "output_type": "stream",
     "text": [
      "0.8 1yric\n"
     ]
    }
   ],
   "source": [
    "from difflib import SequenceMatcher as SM\n",
    "from nltk.util import ngrams\n",
    "import codecs\n",
    "\n",
    "needle = \"lyric\"\n",
    "hay    = text_str_mod\n",
    "\n",
    "needle_length  = len(needle.split())\n",
    "max_sim_val    = 0\n",
    "max_sim_string = u\"\"\n",
    "\n",
    "for ngram in ngrams(hay.split(), needle_length + int(.2*needle_length)):\n",
    "    hay_ngram = u\" \".join(ngram)\n",
    "    similarity = SM(None, hay_ngram, needle).ratio() \n",
    "    if similarity > max_sim_val:\n",
    "        max_sim_val = similarity\n",
    "        max_sim_string = hay_ngram\n",
    "\n",
    "print (max_sim_val, max_sim_string)"
   ]
  },
  {
   "cell_type": "code",
   "execution_count": 44,
   "metadata": {},
   "outputs": [],
   "source": [
    "from fuzzysearch import find_near_matches\n",
    "from fuzzywuzzy import process\n",
    "\n",
    "\n",
    "def fuzzy_extract(qs, ls, threshold):\n",
    "    '''fuzzy matches 'qs' in 'ls' and returns list of \n",
    "    tuples of (word,index)\n",
    "    '''\n",
    "    for word, _ in process.extractBests(qs, (ls,), score_cutoff=threshold):\n",
    "        for match in find_near_matches(qs, word, max_l_dist=1):\n",
    "            match = word[match.start:match.end]\n",
    "            index = ls.find(match)\n",
    "            return (match, index)\n"
   ]
  },
  {
   "cell_type": "code",
   "execution_count": 56,
   "metadata": {},
   "outputs": [],
   "source": [
    "match = fuzzy_extract(query_string, large_string, 40)\n"
   ]
  },
  {
   "cell_type": "code",
   "execution_count": 57,
   "metadata": {},
   "outputs": [
    {
     "data": {
      "text/plain": [
       "('yric', 144)"
      ]
     },
     "execution_count": 57,
     "metadata": {},
     "output_type": "execute_result"
    }
   ],
   "source": [
    "match"
   ]
  },
  {
   "cell_type": "code",
   "execution_count": 63,
   "metadata": {},
   "outputs": [],
   "source": [
    "import re"
   ]
  },
  {
   "cell_type": "code",
   "execution_count": 73,
   "metadata": {},
   "outputs": [],
   "source": [
    "x=re.search('lyric',large_string)"
   ]
  },
  {
   "cell_type": "code",
   "execution_count": 74,
   "metadata": {},
   "outputs": [],
   "source": [
    "x"
   ]
  },
  {
   "cell_type": "code",
   "execution_count": null,
   "metadata": {},
   "outputs": [],
   "source": []
  }
 ],
 "metadata": {
  "kernelspec": {
   "display_name": "Python 3",
   "language": "python",
   "name": "python3"
  },
  "language_info": {
   "codemirror_mode": {
    "name": "ipython",
    "version": 3
   },
   "file_extension": ".py",
   "mimetype": "text/x-python",
   "name": "python",
   "nbconvert_exporter": "python",
   "pygments_lexer": "ipython3",
   "version": "3.11.3"
  },
  "orig_nbformat": 4
 },
 "nbformat": 4,
 "nbformat_minor": 2
}
