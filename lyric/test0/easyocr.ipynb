{
 "cells": [
  {
   "cell_type": "code",
   "execution_count": 2,
   "id": "cdb8f8f7",
   "metadata": {},
   "outputs": [],
   "source": [
    "import cv2\n",
    "import numpy as np"
   ]
  },
  {
   "cell_type": "code",
   "execution_count": 3,
   "id": "328c230a",
   "metadata": {},
   "outputs": [],
   "source": [
    "img = cv2.imread(\"image.jpg\")\n",
    "img = cv2.resize(img, None, fx=2, fy=2,interpolation=cv2.INTER_CUBIC)\n",
    "img = cv2.cvtColor(img, cv2.COLOR_BGR2GRAY)\n",
    "var = cv2.Laplacian(img, cv2.CV_64F).var()\n",
    "if var < 50:\n",
    "    print(\"Image is Too Blurry....\")\n",
    "    k= input('Press Enter to Exit.')\n",
    "    exit(1)\n",
    "    "
   ]
  },
  {
   "cell_type": "code",
   "execution_count": 4,
   "id": "2bfb4883",
   "metadata": {},
   "outputs": [
    {
     "name": "stderr",
     "output_type": "stream",
     "text": [
      "C:\\ProgramData\\anaconda3\\lib\\site-packages\\paramiko\\transport.py:219: CryptographyDeprecationWarning: Blowfish has been deprecated\n",
      "  \"class\": algorithms.Blowfish,\n"
     ]
    }
   ],
   "source": [
    "import easyocr"
   ]
  },
  {
   "cell_type": "code",
   "execution_count": 5,
   "id": "12321c59",
   "metadata": {},
   "outputs": [],
   "source": [
    "reader = easyocr.Reader(['hi','en'])"
   ]
  },
  {
   "cell_type": "code",
   "execution_count": 6,
   "id": "bd3b6351",
   "metadata": {},
   "outputs": [],
   "source": [
    "text = reader.readtext(img,detail= 0)"
   ]
  },
  {
   "cell_type": "code",
   "execution_count": 7,
   "id": "066f1c67",
   "metadata": {},
   "outputs": [
    {
     "data": {
      "text/plain": [
       "['आयकर',\n",
       " 'विभाग',\n",
       " 'भारत',\n",
       " 'सरकार',\n",
       " 'INCONE TAY DEPARTNENT',\n",
       " 'GOVL OF INDLA',\n",
       " 'स्थायी लेखा संख्या कार्ड',\n",
       " 'Permanent Account Number Card',\n",
       " 'ठसट',\n",
       " 'KBQPK94S9A',\n",
       " 'नाम / Name',\n",
       " 'LYRIC KHARE',\n",
       " 'पिता का नाम',\n",
       " '/Fathers Name',\n",
       " 'UMASHANKAR KHARE',\n",
       " '31102020',\n",
       " 'जन्म की तारीख',\n",
       " 'Date of Birth',\n",
       " '17/03/2002',\n",
       " 'हस्ताक्षर / Signature',\n",
       " 'Kee',\n",
       " 'ic']"
      ]
     },
     "execution_count": 7,
     "metadata": {},
     "output_type": "execute_result"
    }
   ],
   "source": [
    "text"
   ]
  },
  {
   "cell_type": "markdown",
   "id": "abe4138f",
   "metadata": {},
   "source": [
    "# Issues\n",
    "- changed characters for numbers in hindi from devnagri to hindu-arabic in path:\n",
    "    C:\\ProgramData\\anaconda3\\pkgs\\easyocr-1.6.2-py310h214f63a_0\\Lib\\site-packages\\easyocr\\character"
   ]
  },
  {
   "cell_type": "code",
   "execution_count": 8,
   "id": "c063985c",
   "metadata": {},
   "outputs": [
    {
     "name": "stdout",
     "output_type": "stream",
     "text": [
      "Output:\n",
      "['आयकर', 'विभाग', 'भारत', 'सरकार', 'INCONE TAY DEPARTNENT', 'GOVL OF INDLA', 'स्थायी लेखा संख्या कार्ड', 'Permanent Account Number Card', 'ठसट', 'KBQPK94S9A', 'नाम / Name', 'LYRIC KHARE', 'पिता का नाम', '/Fathers Name', 'UMASHANKAR KHARE', '31102020', 'जन्म की तारीख', 'Date of Birth', '17/03/2002', 'हस्ताक्षर / Signature', 'Kee', 'ic']\n"
     ]
    }
   ],
   "source": [
    "bounds = reader.readtext(img, detail=0) #detail=0 argument will only give text in array\n",
    "print(\"Output:\")\n",
    "print(bounds)"
   ]
  },
  {
   "cell_type": "code",
   "execution_count": 9,
   "id": "dd3ffabe",
   "metadata": {},
   "outputs": [],
   "source": [
    "aadharTextf = reader.readtext('aadharlkf.png',detail=0)"
   ]
  },
  {
   "cell_type": "code",
   "execution_count": 10,
   "id": "0dd5e5a1",
   "metadata": {},
   "outputs": [
    {
     "data": {
      "text/plain": [
       "['भारत',\n",
       " 'सरकार',\n",
       " 'Government of India',\n",
       " 'लिरिक खरे',\n",
       " 'Lyric Khare',\n",
       " 'डै',\n",
       " 'जन्म',\n",
       " 'तिथि / DOB: 17/03/2002',\n",
       " 'पुरुष / MALE',\n",
       " '8्ल',\n",
       " 'छ्ग',\n",
       " '5249 1788 9093',\n",
       " 'MID',\n",
       " '9189 8672 4995 5674',\n",
       " 'मेरा',\n",
       " 'आधार ,',\n",
       " 'मेरी',\n",
       " 'पहचान']"
      ]
     },
     "execution_count": 10,
     "metadata": {},
     "output_type": "execute_result"
    }
   ],
   "source": [
    "aadharTextf"
   ]
  },
  {
   "cell_type": "code",
   "execution_count": 11,
   "id": "093d4adb",
   "metadata": {},
   "outputs": [],
   "source": [
    "aadharTextb = reader.readtext('aadharlkb.png',detail=0)"
   ]
  },
  {
   "cell_type": "code",
   "execution_count": 12,
   "id": "d0a6fe48",
   "metadata": {},
   "outputs": [
    {
     "data": {
      "text/plain": [
       "['भारतीय विशिष्ट',\n",
       " 'पहचान',\n",
       " 'प्राधिकरण',\n",
       " 'Unique Identification Authority of India',\n",
       " 'AADHAAR',\n",
       " 'पताः',\n",
       " 'उमाशकर',\n",
       " 'हाउस न. -Z, गंगा विहार करोली माता',\n",
       " 'मंदिर के पास',\n",
       " 'महलगाँव ,  गिर्द, ग्वालियर',\n",
       " 'मध्य प्रदश',\n",
       " '474002',\n",
       " 'Address:',\n",
       " 'डँ GMNSHANKAR KHAREKHQOSE NOTA Z6',\n",
       " 'GANGA VIHAR, NEAR KAROLI MATA MANDIR,',\n",
       " '-',\n",
       " 'MAHALGAON Gird Gwalior',\n",
       " 'Madhya Pradesh',\n",
       " '474002',\n",
       " '5249 1788 9093',\n",
       " 'MID',\n",
       " '9189 8672 4995 5674',\n",
       " '1947',\n",
       " 'help@uidai govin',\n",
       " 'INWINWINY',\n",
       " 'uidai govin']"
      ]
     },
     "execution_count": 12,
     "metadata": {},
     "output_type": "execute_result"
    }
   ],
   "source": [
    "aadharTextb"
   ]
  },
  {
   "cell_type": "code",
   "execution_count": 13,
   "id": "434f8fc6",
   "metadata": {},
   "outputs": [],
   "source": [
    "aadharText = reader.readtext('aadhar.png',detail=0)"
   ]
  },
  {
   "cell_type": "code",
   "execution_count": 14,
   "id": "4fa8793d",
   "metadata": {},
   "outputs": [],
   "source": [
    "def listToString(s):\n",
    "   \n",
    "    # initialize an empty string\n",
    "    str1 = \" \"\n",
    "   \n",
    "    # return string \n",
    "    return (str1.join(s).lower())\n",
    "straadhar = listToString(aadharText)"
   ]
  },
  {
   "cell_type": "code",
   "execution_count": 15,
   "id": "ba1a3fa0",
   "metadata": {},
   "outputs": [
    {
     "data": {
      "text/plain": [
       "20"
      ]
     },
     "execution_count": 15,
     "metadata": {},
     "output_type": "execute_result"
    }
   ],
   "source": [
    "straadhar.find('aadhaar')"
   ]
  },
  {
   "cell_type": "markdown",
   "id": "310bcb89",
   "metadata": {},
   "source": [
    "# Sharpening the image"
   ]
  },
  {
   "cell_type": "code",
   "execution_count": 16,
   "id": "689bfae6",
   "metadata": {},
   "outputs": [],
   "source": [
    "kernel = np.array([[0, -1, 0],\n",
    "                   [-1, 5,-1],\n",
    "                   [0, -1, 0]])"
   ]
  },
  {
   "cell_type": "code",
   "execution_count": 17,
   "id": "484eef5d",
   "metadata": {},
   "outputs": [],
   "source": [
    "img1 = cv2.imread(\"image.jpg\")\n",
    "sharpened = cv2.filter2D(img1, -1, kernel)"
   ]
  },
  {
   "cell_type": "code",
   "execution_count": 18,
   "id": "d62b2e56",
   "metadata": {},
   "outputs": [],
   "source": [
    "textSharp = reader.readtext(img1,detail= 0)"
   ]
  },
  {
   "cell_type": "code",
   "execution_count": 19,
   "id": "b178c682",
   "metadata": {},
   "outputs": [
    {
     "data": {
      "text/plain": [
       "['आयकर',\n",
       " 'विभाग',\n",
       " 'भारत',\n",
       " 'सरकार',\n",
       " 'INCONE TAY DEPARTIENT',\n",
       " 'GOVT OF INDIA',\n",
       " 'स्थायी लेखा संख्या कार्ड',\n",
       " 'Permanent Account Number Card',\n",
       " 'KBQPK94S9A',\n",
       " 'Name',\n",
       " 'LYRIC KHARE',\n",
       " 'पिता का नाम',\n",
       " 'Father s Name',\n",
       " 'UMASHANKAR KHARE',\n",
       " '31102020',\n",
       " 'जन्म की तारीख',\n",
       " 'Date of Birth',\n",
       " '17/03/2002',\n",
       " 'हस्ताक्षर',\n",
       " 'Signature',\n",
       " 'Kne',\n",
       " '=c']"
      ]
     },
     "execution_count": 19,
     "metadata": {},
     "output_type": "execute_result"
    }
   ],
   "source": [
    "textSharp"
   ]
  },
  {
   "cell_type": "code",
   "execution_count": 20,
   "id": "96ec78ed",
   "metadata": {},
   "outputs": [
    {
     "data": {
      "text/plain": [
       "True"
      ]
     },
     "execution_count": 20,
     "metadata": {},
     "output_type": "execute_result"
    }
   ],
   "source": [
    "cv2.imwrite('filename.png', sharpened)\n"
   ]
  },
  {
   "cell_type": "markdown",
   "id": "94339fd1",
   "metadata": {},
   "source": [
    "# Spell check"
   ]
  },
  {
   "cell_type": "code",
   "execution_count": null,
   "id": "2ab24a97",
   "metadata": {},
   "outputs": [],
   "source": [
    "from textblob import TextBlob\n",
    "import pytesseract\n",
    "import argparse\n",
    "import cv2\n",
    "# construct the argument parser and parse the arguments\n",
    "ap = argparse.ArgumentParser()\n",
    "ap.add_argument(\"-i\", \"--image\", required=True,\n",
    "\thelp=\"path to input image to be OCR'd\")\n",
    "args = vars(ap.parse_args())"
   ]
  }
 ],
 "metadata": {
  "kernelspec": {
   "display_name": "Python 3 (ipykernel)",
   "language": "python",
   "name": "python3"
  },
  "language_info": {
   "codemirror_mode": {
    "name": "ipython",
    "version": 3
   },
   "file_extension": ".py",
   "mimetype": "text/x-python",
   "name": "python",
   "nbconvert_exporter": "python",
   "pygments_lexer": "ipython3",
   "version": "3.10.9"
  }
 },
 "nbformat": 4,
 "nbformat_minor": 5
}
