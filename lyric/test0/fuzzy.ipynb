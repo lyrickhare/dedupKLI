{
 "cells": [
  {
   "cell_type": "code",
   "execution_count": 2,
   "metadata": {},
   "outputs": [],
   "source": [
    "from fuzzysearch import find_near_matches\n",
    "from fuzzywuzzy import process\n",
    "\n",
    "large_string = \"thelargemanhatanproject is a great project in themanhattincity\"\n",
    "query_string = \"manhattan\"\n",
    "\n",
    "def fuzzy_extract(qs, ls, threshold):\n",
    "    '''fuzzy matches 'qs' in 'ls' and returns list of \n",
    "    tuples of (word,index)\n",
    "    '''\n",
    "    for word, _ in process.extractBests(qs, (ls,), score_cutoff=threshold):\n",
    "        print('word {}'.format(word))\n",
    "        for match in find_near_matches(qs, word, max_l_dist=1):\n",
    "            match = word[match.start:match.end]\n",
    "            print('match {}'.format(match))\n",
    "            index = ls.find(match)\n",
    "            yield (match, index)\n"
   ]
  },
  {
   "cell_type": "code",
   "execution_count": 3,
   "metadata": {},
   "outputs": [
    {
     "name": "stdout",
     "output_type": "stream",
     "text": [
      "query: manhattan\n",
      "string: thelargemanhatanproject is a great project in themanhattincity\n",
      "word thelargemanhatanproject is a great project in themanhattincity\n",
      "match manhatan\n",
      "match: manhatan\n",
      "index: 8\n",
      "match manhattin\n",
      "match: manhattin\n",
      "index: 49\n",
      "query: citi\n",
      "string: thelargemanhatanproject is a great project in themanhattincity\n",
      "word thelargemanhatanproject is a great project in themanhattincity\n",
      "match city\n",
      "match: city\n",
      "index: 58\n",
      "query: greet\n",
      "string: thelargemanhatanproject is a great project in themanhattincity\n",
      "word thelargemanhatanproject is a great project in themanhattincity\n",
      "match great\n",
      "match: great\n",
      "index: 29\n"
     ]
    }
   ],
   "source": [
    "query_string = \"manhattan\"\n",
    "print('query: {}\\nstring: {}'.format(query_string, large_string))\n",
    "for match,index in fuzzy_extract(query_string, large_string, 70):\n",
    "    print('match: {}\\nindex: {}'.format(match, index))\n",
    "\n",
    "query_string = \"citi\"\n",
    "print('query: {}\\nstring: {}'.format(query_string, large_string))\n",
    "for match,index in fuzzy_extract(query_string, large_string, 30):\n",
    "    print('match: {}\\nindex: {}'.format(match, index))\n",
    "\n",
    "query_string = \"greet\"\n",
    "print('query: {}\\nstring: {}'.format(query_string, large_string))\n",
    "for match,index in fuzzy_extract(query_string, large_string, 30):\n",
    "    print('match: {}\\nindex: {}'.format(match, index))"
   ]
  },
  {
   "cell_type": "code",
   "execution_count": null,
   "metadata": {},
   "outputs": [],
   "source": []
  }
 ],
 "metadata": {
  "kernelspec": {
   "display_name": "Python 3",
   "language": "python",
   "name": "python3"
  },
  "language_info": {
   "codemirror_mode": {
    "name": "ipython",
    "version": 3
   },
   "file_extension": ".py",
   "mimetype": "text/x-python",
   "name": "python",
   "nbconvert_exporter": "python",
   "pygments_lexer": "ipython3",
   "version": "3.11.3"
  },
  "orig_nbformat": 4
 },
 "nbformat": 4,
 "nbformat_minor": 2
}
