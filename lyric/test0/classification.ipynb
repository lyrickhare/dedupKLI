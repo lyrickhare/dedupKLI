{
 "cells": [
  {
   "attachments": {},
   "cell_type": "markdown",
   "metadata": {},
   "source": [
    "# Importing Libraries"
   ]
  },
  {
   "cell_type": "code",
   "execution_count": 15,
   "metadata": {},
   "outputs": [],
   "source": [
    "import cv2\n",
    "import numpy as np\n",
    "import ftfy\n",
    "import pytesseract\n",
    "from PIL import Image\n",
    "import regex\n",
    "from fuzzywuzzy import fuzz"
   ]
  },
  {
   "attachments": {},
   "cell_type": "markdown",
   "metadata": {},
   "source": [
    "# OCR"
   ]
  },
  {
   "cell_type": "code",
   "execution_count": 16,
   "metadata": {},
   "outputs": [],
   "source": [
    "def OCR(imgpath):\n",
    "    img = cv2.imread(imgpath)\n",
    "    img = cv2.resize(img, None, fx=2, fy=2,interpolation=cv2.INTER_CUBIC)\n",
    "    img = cv2.cvtColor(img, cv2.COLOR_BGR2GRAY)\n",
    "    pytesseract.pytesseract.tesseract_cmd = 'C:/Program Files/Tesseract-OCR/tesseract.exe'\n",
    "    text = pytesseract.image_to_string(img, lang = 'eng+hin')\n",
    "    text = ftfy.fix_text(text)\n",
    "    text = ftfy.fix_encoding(text)\n",
    "    return text"
   ]
  },
  {
   "attachments": {},
   "cell_type": "markdown",
   "metadata": {},
   "source": [
    "# Fuzzy substring match"
   ]
  },
  {
   "cell_type": "code",
   "execution_count": 17,
   "metadata": {},
   "outputs": [],
   "source": [
    "def fuzzMatch( major, minor, errs = 4, threshold = 65 ):\n",
    "    errs_ = 0\n",
    "    major = major.lower()\n",
    "    minor = minor.lower()\n",
    "    s = regex.search(f\"({minor}){{e<={errs_}}}\", major)\n",
    "    while s is None and errs_ <= errs:\n",
    "        errs_ += 1\n",
    "        s = regex.search(f\"({minor}){{e<={errs_}}}\", major)\n",
    "    if(fuzz.token_set_ratio(minor,s)>threshold):\n",
    "        return 1\n",
    "    else:\n",
    "        return 0"
   ]
  },
  {
   "attachments": {},
   "cell_type": "markdown",
   "metadata": {},
   "source": [
    "# Defining identification words"
   ]
  },
  {
   "cell_type": "code",
   "execution_count": 18,
   "metadata": {},
   "outputs": [],
   "source": [
    "idKeyWords = {\"PAN\":[\"income\",\"permanent\",\"account\"],\"DL\":[\"driving\",\"drive\",\"dl no\",\"transport\"], \"Passport\": [\"republic\",\"passport\"],\"Aadhaar\":[\"aadhaar\"]}"
   ]
  },
  {
   "attachments": {},
   "cell_type": "markdown",
   "metadata": {},
   "source": [
    "# Classification"
   ]
  },
  {
   "cell_type": "code",
   "execution_count": 19,
   "metadata": {},
   "outputs": [],
   "source": [
    "def classify(text):\n",
    "    for key in idKeyWords:\n",
    "        for word in idKeyWords[key]:\n",
    "            if(fuzzMatch(text,word)):\n",
    "                return key\n",
    "    return \"other\"    \n",
    "    "
   ]
  },
  {
   "cell_type": "code",
   "execution_count": 20,
   "metadata": {},
   "outputs": [],
   "source": [
    "def segregate(filepaths):\n",
    "    classifiedDict = {\"PAN\":[],\"DL\":[],\"Passport\":[],\"Aadhaar\":[],\"other\":[]}\n",
    "    for path in filepaths:\n",
    "        ocrTxt = OCR(path)\n",
    "        doctype = classify(ocrTxt)\n",
    "        if(doctype==\"other\"):\n",
    "            res = ocrTxt.split()\n",
    "            for i in range(len(res) - 1):\n",
    "                check = 1\n",
    "                for j in range(3):\n",
    "                    check = check and len(res[i+j]) == 4 and res[i+j].isdigit()\n",
    "                check = check and (\"male\" in res or \"MALE\" in res)\n",
    "                if(check):\n",
    "                    doctype = \"Aadhaar\"\n",
    "        classifiedDict[doctype].append(path)\n",
    "    return classifiedDict"
   ]
  },
  {
   "cell_type": "code",
   "execution_count": 21,
   "metadata": {},
   "outputs": [],
   "source": [
    "filepaths = [\"aadhar.png\",\"aadharlk.png\",\"aadharlkb.png\",\"image.jpg\"]"
   ]
  },
  {
   "cell_type": "code",
   "execution_count": 22,
   "metadata": {},
   "outputs": [],
   "source": [
    "classifieddict = segregate(filepaths)"
   ]
  },
  {
   "cell_type": "code",
   "execution_count": 23,
   "metadata": {},
   "outputs": [
    {
     "data": {
      "text/plain": [
       "{'PAN': ['image.jpg'],\n",
       " 'DL': [],\n",
       " 'Passport': [],\n",
       " 'Aadhaar': ['aadhar.png', 'aadharlk.png', 'aadharlkb.png'],\n",
       " 'other': []}"
      ]
     },
     "execution_count": 23,
     "metadata": {},
     "output_type": "execute_result"
    }
   ],
   "source": [
    "classifieddict"
   ]
  },
  {
   "cell_type": "code",
   "execution_count": 24,
   "metadata": {},
   "outputs": [],
   "source": [
    "txt = OCR(\"aadhar.png\")"
   ]
  },
  {
   "cell_type": "code",
   "execution_count": 25,
   "metadata": {},
   "outputs": [
    {
     "data": {
      "text/plain": [
       "1"
      ]
     },
     "execution_count": 25,
     "metadata": {},
     "output_type": "execute_result"
    }
   ],
   "source": [
    "fuzzMatch(txt,\"aadhaar\")"
   ]
  },
  {
   "cell_type": "code",
   "execution_count": 26,
   "metadata": {},
   "outputs": [
    {
     "data": {
      "text/plain": [
       "'Aadhaar'"
      ]
     },
     "execution_count": 26,
     "metadata": {},
     "output_type": "execute_result"
    }
   ],
   "source": [
    "classify(txt)"
   ]
  },
  {
   "cell_type": "code",
   "execution_count": 27,
   "metadata": {},
   "outputs": [
    {
     "data": {
      "text/plain": [
       "'be\\nGovemment of ind\\n\\nब आधार पहचान का प्रमाण है, नागरिकता का नहीं।\\n\\n# आधार विशिष्ट और सुरक्षित है।\\n\\n1 सुरक्षित FR कोइ/ऑफ़लाइन एक्सएमएल्/ऑनलाइन प्रमाणीकरण\\nउपयोग करके पहचान सत्यापित करें।\\n\\nGovernment of India\\n\\n1 ह आधार के सभी रुप जैसे आधार पत्र, पीवीसी कार्ड, ई-आधार और एम-\\n\\' आधार समान रूप से मान्य हैं। १२ अंकों की आधार संख्या के स्थान पर\\n1 arr (वर्चुअल) आधार पहचान (VID) का भी उपयोग किया जा\\n\\' सकता है।\\n\\n\\' © to साल मैं कम से कम एक बार आधार अपडेट जरुर करें।\\n\\n\\' Booey आपको विभिन्\\u200dन सरकारी और गैर-सरकारी योजनाओं /सेवाओं\\n\\nभारतीय विशिष्ट पहचान प्राधिकरण\\nUnique Identification Authority of India\\nनामांकन क्रम/ Enrolment No.: 0000/00735/85861\\n\\nto we का लाभ उठाने मैं मदद करता है।\\n\\nने ह आधार में अपना मोबाइल नंबर और ई-मेल आईडी अपडेट रखें।\\n\\nLt ae laure © आधार सेवाओं का ATH उठाने के लिए स्मार्टफोन पर mAadhaar ऐप\\nडाउनलोड करें।\\n\\nHOUSE NO. -26\\n\\nGANGA VIHAR & आधार/बायोमेट्रिक्स को लॉक/अनलॉक करने की विशेषता का उपयोग\\n\\nNEAR KAROLI MATA MANDIR सुरक्षा सुनिश्चित करने के लिए करें।\\n\\nMAHALGAON @ आधार (पत्र/ नंबर) चाहने वाली संस्थायों को उचित सहमति लेने के\\n\\n620 लिए बाध्य किया गया है।\\n\\nGwalior Madhya Pradesh - 474002 ® Aadhaarisa proof of identity, not of citizenship.\\n\\n9806953395 व Aadhaaris unique and secure.\\n\\nब Verify identity using secure QR code/offline\\nXML/online Authentication.\\n\\n® All forms of Aadhaar like Aadhaar letter, PVC Cards,\\neAadhaar and mAadhaar are equally valid. Virtual\\nAadhaar Identity (VID) can also be used in place of 12\\ndigit Aadhaar number.\\n\\nबा Update Aadhaar atleast once in 10 years.\\n\\n@ Aadhaar helps you avail various Government and\\nNon- Government benefits/services.\\n\\n™ Keep your mobile number and email id updated in\\n\\nAadhaar.\\n® Download mAadhaar app on smart phones to avail\\n. . Aadhaar Services.\\nआपका आधार HATH / ४, Aadh: No. :\\n\\na आधार क्र / Your Aadhaar No ® Use the feature of lock/unlock Aadhaar/biometrics to\\n\\n5249 1788 9093 ensure security.\\nVID : 9189 8672 4995 5674 ® Entities seeking Aadhaar are obligated to seek due\\n\\nART आध्यार, मेरी पहचान 0जाअओ\\nआरतीय विशिष्ट पहचान प्राधिकरण\\n\\n\"GA\\nKKOMAAR\\n\\n\\'Unique Identification Authority of india\\n\\na0 Date 0207/2014\\n\\nन: 5249 1788 9093 है 5249 1788 9093\\nD : 918 1995 ५56 (ID : 9189 8672 4995 5674\\nwR arene, ALT Geatet |. Bq hetpeuidel.gov.in | हू www.uidal.gov.in\\n'"
      ]
     },
     "execution_count": 27,
     "metadata": {},
     "output_type": "execute_result"
    }
   ],
   "source": [
    "txt"
   ]
  },
  {
   "cell_type": "code",
   "execution_count": 28,
   "metadata": {},
   "outputs": [
    {
     "name": "stdout",
     "output_type": "stream",
     "text": [
      "income\n",
      "\n",
      "permanent\n",
      "\n",
      "account\n",
      "\n",
      "driving\n",
      "\n",
      "drive\n",
      "\n",
      "dl no\n",
      "\n",
      "transport\n",
      "\n",
      "republic\n",
      "\n",
      "passport\n",
      "\n",
      "aadhaar\n",
      "\n"
     ]
    }
   ],
   "source": [
    "for key in idKeyWords:\n",
    "        for word in idKeyWords[key]:\n",
    "            print(word + \"\\n\")"
   ]
  },
  {
   "cell_type": "code",
   "execution_count": null,
   "metadata": {},
   "outputs": [],
   "source": []
  }
 ],
 "metadata": {
  "kernelspec": {
   "display_name": "Python 3",
   "language": "python",
   "name": "python3"
  },
  "language_info": {
   "codemirror_mode": {
    "name": "ipython",
    "version": 3
   },
   "file_extension": ".py",
   "mimetype": "text/x-python",
   "name": "python",
   "nbconvert_exporter": "python",
   "pygments_lexer": "ipython3",
   "version": "3.11.3"
  },
  "orig_nbformat": 4
 },
 "nbformat": 4,
 "nbformat_minor": 2
}
