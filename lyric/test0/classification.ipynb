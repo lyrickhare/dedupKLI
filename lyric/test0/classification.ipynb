{
 "cells": [
  {
   "cell_type": "markdown",
   "metadata": {},
   "source": [
    "# Importing Libraries"
   ]
  },
  {
   "cell_type": "code",
   "execution_count": 4,
   "metadata": {},
   "outputs": [],
   "source": [
    "import cv2\n",
    "import numpy as np\n",
    "import ftfy\n",
    "import pytesseract\n",
    "from PIL import Image\n",
    "import regex\n",
    "from fuzzywuzzy import fuzz"
   ]
  },
  {
   "cell_type": "markdown",
   "metadata": {},
   "source": [
    "# OCR"
   ]
  },
  {
   "cell_type": "code",
   "execution_count": 8,
   "metadata": {},
   "outputs": [],
   "source": [
    "def OCR(imgpath):\n",
    "    img = cv2.imread(imgpath)\n",
    "    # img = cv2.resize(img, None, fx=2, fy=2,interpolation=cv2.INTER_CUBIC)\n",
    "    img = cv2.cvtColor(img, cv2.COLOR_BGR2GRAY)\n",
    "    pytesseract.pytesseract.tesseract_cmd = 'C:/Program Files/Tesseract-OCR/tesseract.exe'\n",
    "    text = pytesseract.image_to_string(img, lang = 'eng+hin')\n",
    "    text = ftfy.fix_text(text)\n",
    "    text = ftfy.fix_encoding(text)\n",
    "    return text"
   ]
  },
  {
   "cell_type": "markdown",
   "metadata": {},
   "source": [
    "# Fuzzy substring match"
   ]
  },
  {
   "cell_type": "code",
   "execution_count": 3,
   "metadata": {},
   "outputs": [],
   "source": [
    "def fuzzMatch( major, minor, errs = 4, threshold = 65 ):\n",
    "    errs_ = 0\n",
    "    major = major.lower()\n",
    "    minor = minor.lower()\n",
    "    s = regex.search(f\"({minor}){{e<={errs_}}}\", major)\n",
    "    while s is None and errs_ <= errs:\n",
    "        errs_ += 1\n",
    "        s = regex.search(f\"({minor}){{e<={errs_}}}\", major)\n",
    "    if(fuzz.token_set_ratio(minor,s)>threshold):\n",
    "        return 1\n",
    "    else:\n",
    "        return 0"
   ]
  },
  {
   "cell_type": "markdown",
   "metadata": {},
   "source": [
    "# Defining identification words"
   ]
  },
  {
   "cell_type": "code",
   "execution_count": 10,
   "metadata": {},
   "outputs": [],
   "source": [
    "idKeyWords = {\"PAN\":[\"income\",\"permanent\",\"account\"],\"DL\":[\"driving\",\"drive\",\"dl no\",\"transport\"], \"Passport\": [\"republic\",\"passport\"],\"Aadhaar\":[\"aadhaar\",\"आधार\"]}"
   ]
  },
  {
   "cell_type": "markdown",
   "metadata": {},
   "source": [
    "# Classification"
   ]
  },
  {
   "cell_type": "code",
   "execution_count": 5,
   "metadata": {},
   "outputs": [],
   "source": [
    "def classify(text):\n",
    "    for key in idKeyWords:\n",
    "        for word in idKeyWords[key]:\n",
    "            if(fuzzMatch(text,word)):\n",
    "                return key\n",
    "    return \"other\"    \n",
    "    "
   ]
  },
  {
   "cell_type": "markdown",
   "metadata": {},
   "source": [
    "# main function"
   ]
  },
  {
   "cell_type": "code",
   "execution_count": 6,
   "metadata": {},
   "outputs": [],
   "source": [
    "def segregate(filepaths):\n",
    "    classifiedDict = {\"PAN\":[],\"DL\":[],\"Passport\":[],\"Aadhaar\":[],\"other\":[]}\n",
    "    for path in filepaths:\n",
    "        ocrTxt = OCR(path).lower()\n",
    "        doctype = classify(ocrTxt)\n",
    "        if(doctype==\"other\"):\n",
    "            res = ocrTxt.split()\n",
    "            for i in range(len(res) - 1):\n",
    "                check = 1\n",
    "                for j in range(3):\n",
    "                    check = check and len(res[i+j]) == 4 and res[i+j].isdigit()\n",
    "                check = check and (\"male\" in res or \"female\" in res)\n",
    "                if(check):\n",
    "                    doctype = \"Aadhaar\"\n",
    "        classifiedDict[doctype].append(path)\n",
    "    return classifiedDict"
   ]
  },
  {
   "cell_type": "markdown",
   "metadata": {},
   "source": [
    "# Example"
   ]
  },
  {
   "cell_type": "code",
   "execution_count": 21,
   "metadata": {},
   "outputs": [],
   "source": [
    "filepaths = [\"aadhar.png\",\"aadharlk.png\",\"aadharlkb.png\",\"image.jpg\"]"
   ]
  },
  {
   "cell_type": "code",
   "execution_count": 22,
   "metadata": {},
   "outputs": [],
   "source": [
    "classifieddict = segregate(filepaths)"
   ]
  },
  {
   "cell_type": "code",
   "execution_count": 23,
   "metadata": {},
   "outputs": [
    {
     "data": {
      "text/plain": [
       "{'PAN': ['image.jpg'],\n",
       " 'DL': [],\n",
       " 'Passport': [],\n",
       " 'Aadhaar': ['aadhar.png', 'aadharlk.png', 'aadharlkb.png'],\n",
       " 'other': []}"
      ]
     },
     "execution_count": 23,
     "metadata": {},
     "output_type": "execute_result"
    }
   ],
   "source": [
    "classifieddict"
   ]
  },
  {
   "cell_type": "code",
   "execution_count": 12,
   "metadata": {},
   "outputs": [],
   "source": [
    "txt = OCR(\"aadharlkf.png\")"
   ]
  },
  {
   "cell_type": "code",
   "execution_count": 11,
   "metadata": {},
   "outputs": [
    {
     "data": {
      "text/plain": [
       "1"
      ]
     },
     "execution_count": 11,
     "metadata": {},
     "output_type": "execute_result"
    }
   ],
   "source": [
    "fuzzMatch(txt,\"आधार\")"
   ]
  },
  {
   "cell_type": "code",
   "execution_count": 15,
   "metadata": {},
   "outputs": [
    {
     "data": {
      "text/plain": [
       "'bod भारत सरकार\\n& government of india\\nलिरिक खरे\\nlyric khare\\nजन्म तिथि/008: 17/03/2002\\nपुरुष/ male\\n\\nissue date: 02/07/2014\\n\\n5249 1788 9093\\nvid : 9189 8672 4995 5674\\n\\nart आधश्यार, मेरी पहचान\\n\\n'"
      ]
     },
     "execution_count": 15,
     "metadata": {},
     "output_type": "execute_result"
    }
   ],
   "source": [
    "txt.lower()"
   ]
  },
  {
   "cell_type": "code",
   "execution_count": 14,
   "metadata": {},
   "outputs": [
    {
     "data": {
      "text/plain": [
       "['bod',\n",
       " 'भारत',\n",
       " 'सरकार',\n",
       " '&',\n",
       " 'Government',\n",
       " 'of',\n",
       " 'India',\n",
       " 'लिरिक',\n",
       " 'खरे',\n",
       " 'Lyric',\n",
       " 'Khare',\n",
       " 'जन्म',\n",
       " 'तिथि/008:',\n",
       " '17/03/2002',\n",
       " 'पुरुष/',\n",
       " 'MALE',\n",
       " 'Issue',\n",
       " 'Date:',\n",
       " '02/07/2014',\n",
       " '5249',\n",
       " '1788',\n",
       " '9093',\n",
       " 'VID',\n",
       " ':',\n",
       " '9189',\n",
       " '8672',\n",
       " '4995',\n",
       " '5674',\n",
       " 'ART',\n",
       " 'आधश्यार,',\n",
       " 'मेरी',\n",
       " 'पहचान']"
      ]
     },
     "execution_count": 14,
     "metadata": {},
     "output_type": "execute_result"
    }
   ],
   "source": [
    "txt.split().lower()"
   ]
  },
  {
   "cell_type": "code",
   "execution_count": 11,
   "metadata": {},
   "outputs": [],
   "source": [
    "img"
   ]
  },
  {
   "cell_type": "code",
   "execution_count": null,
   "metadata": {},
   "outputs": [],
   "source": []
  }
 ],
 "metadata": {
  "kernelspec": {
   "display_name": "Python 3 (ipykernel)",
   "language": "python",
   "name": "python3"
  },
  "language_info": {
   "codemirror_mode": {
    "name": "ipython",
    "version": 3
   },
   "file_extension": ".py",
   "mimetype": "text/x-python",
   "name": "python",
   "nbconvert_exporter": "python",
   "pygments_lexer": "ipython3",
   "version": "3.8.5"
  }
 },
 "nbformat": 4,
 "nbformat_minor": 2
}
