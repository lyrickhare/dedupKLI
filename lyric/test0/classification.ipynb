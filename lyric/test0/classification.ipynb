{
 "cells": [
  {
   "attachments": {},
   "cell_type": "markdown",
   "metadata": {},
   "source": [
    "# Importing Libraries"
   ]
  },
  {
   "cell_type": "code",
   "execution_count": 1,
   "metadata": {},
   "outputs": [],
   "source": [
    "import cv2\n",
    "import numpy as np\n",
    "import ftfy\n",
    "import pytesseract\n",
    "from PIL import Image\n",
    "import regex\n",
    "from fuzzywuzzy import fuzz"
   ]
  },
  {
   "attachments": {},
   "cell_type": "markdown",
   "metadata": {},
   "source": [
    "# OCR"
   ]
  },
  {
   "cell_type": "code",
   "execution_count": 20,
   "metadata": {},
   "outputs": [],
   "source": [
    "def OCR(imgpath):\n",
    "    img = cv2.imread(imgpath)\n",
    "    # img = cv2.resize(img, None, fx=2, fy=2,interpolation=cv2.INTER_CUBIC)\n",
    "    img = cv2.cvtColor(img, cv2.COLOR_BGR2GRAY)\n",
    "    pytesseract.pytesseract.tesseract_cmd = 'C:/Program Files/Tesseract-OCR/tesseract.exe'\n",
    "    text = pytesseract.image_to_string(img, lang = 'eng+hin')\n",
    "    text = ftfy.fix_text(text)\n",
    "    text = ftfy.fix_encoding(text)\n",
    "    return text"
   ]
  },
  {
   "attachments": {},
   "cell_type": "markdown",
   "metadata": {},
   "source": [
    "# Fuzzy substring match"
   ]
  },
  {
   "cell_type": "code",
   "execution_count": 3,
   "metadata": {},
   "outputs": [],
   "source": [
    "def fuzzMatch( major, minor, errs = 4, threshold = 65 ):\n",
    "    errs_ = 0\n",
    "    major = major.lower()\n",
    "    minor = minor.lower()\n",
    "    s = regex.search(f\"({minor}){{e<={errs_}}}\", major)\n",
    "    while s is None and errs_ <= errs:\n",
    "        errs_ += 1\n",
    "        s = regex.search(f\"({minor}){{e<={errs_}}}\", major)\n",
    "    if(fuzz.token_set_ratio(minor,s)>threshold):\n",
    "        return 1\n",
    "    else:\n",
    "        return 0"
   ]
  },
  {
   "attachments": {},
   "cell_type": "markdown",
   "metadata": {},
   "source": [
    "# Defining identification words"
   ]
  },
  {
   "cell_type": "code",
   "execution_count": 10,
   "metadata": {},
   "outputs": [],
   "source": [
    "idKeyWords = {\"PAN\":[\"income\",\"permanent\",\"account\"],\"DL\":[\"driving\",\"drive\",\"dl no\",\"transport\"], \"Passport\": [\"republic\",\"passport\"],\"Aadhaar\":[\"aadhaar\",\"आधार\"]}"
   ]
  },
  {
   "attachments": {},
   "cell_type": "markdown",
   "metadata": {},
   "source": [
    "# Classification"
   ]
  },
  {
   "cell_type": "code",
   "execution_count": 5,
   "metadata": {},
   "outputs": [],
   "source": [
    "def classify(text):\n",
    "    for key in idKeyWords:\n",
    "        for word in idKeyWords[key]:\n",
    "            if(fuzzMatch(text,word)):\n",
    "                return key\n",
    "    return \"other\"    \n",
    "    "
   ]
  },
  {
   "attachments": {},
   "cell_type": "markdown",
   "metadata": {},
   "source": [
    "# main function"
   ]
  },
  {
   "cell_type": "code",
   "execution_count": 6,
   "metadata": {},
   "outputs": [],
   "source": [
    "def segregate(filepaths):\n",
    "    classifiedDict = {\"PAN\":[],\"DL\":[],\"Passport\":[],\"Aadhaar\":[],\"other\":[]}\n",
    "    for path in filepaths:\n",
    "        ocrTxt = OCR(path)\n",
    "        doctype = classify(ocrTxt)\n",
    "        if(doctype==\"other\"):\n",
    "            res = ocrTxt.split()\n",
    "            for i in range(len(res) - 1):\n",
    "                check = 1\n",
    "                for j in range(3):\n",
    "                    check = check and len(res[i+j]) == 4 and res[i+j].isdigit()\n",
    "                check = check and (\"male\" in res or \"MALE\" in res)\n",
    "                if(check):\n",
    "                    doctype = \"Aadhaar\"\n",
    "        classifiedDict[doctype].append(path)\n",
    "    return classifiedDict"
   ]
  },
  {
   "attachments": {},
   "cell_type": "markdown",
   "metadata": {},
   "source": [
    "# Example"
   ]
  },
  {
   "cell_type": "code",
   "execution_count": 21,
   "metadata": {},
   "outputs": [],
   "source": [
    "filepaths = [\"aadhar.png\",\"aadharlk.png\",\"aadharlkb.png\",\"image.jpg\"]"
   ]
  },
  {
   "cell_type": "code",
   "execution_count": 22,
   "metadata": {},
   "outputs": [],
   "source": [
    "classifieddict = segregate(filepaths)"
   ]
  },
  {
   "cell_type": "code",
   "execution_count": 23,
   "metadata": {},
   "outputs": [
    {
     "data": {
      "text/plain": [
       "{'PAN': ['image.jpg'],\n",
       " 'DL': [],\n",
       " 'Passport': [],\n",
       " 'Aadhaar': ['aadhar.png', 'aadharlk.png', 'aadharlkb.png'],\n",
       " 'other': []}"
      ]
     },
     "execution_count": 23,
     "metadata": {},
     "output_type": "execute_result"
    }
   ],
   "source": [
    "classifieddict"
   ]
  },
  {
   "cell_type": "code",
   "execution_count": 18,
   "metadata": {},
   "outputs": [],
   "source": [
    "txt = OCR(\"counteredge.jpg\")"
   ]
  },
  {
   "cell_type": "code",
   "execution_count": 11,
   "metadata": {},
   "outputs": [
    {
     "data": {
      "text/plain": [
       "1"
      ]
     },
     "execution_count": 11,
     "metadata": {},
     "output_type": "execute_result"
    }
   ],
   "source": [
    "fuzzMatch(txt,\"आधार\")"
   ]
  },
  {
   "cell_type": "code",
   "execution_count": 19,
   "metadata": {},
   "outputs": [
    {
     "data": {
      "text/plain": [
       "'a. ख़रे\\nLyric Khare\\nजन्म लिथे/008: 17/03/2002\\nघुरुष/ MALE\\n\\n5249 1788 9093 (ae\\nFraT आध्यार, म्नेरी पहलच्यान्त\\n\\n'"
      ]
     },
     "execution_count": 19,
     "metadata": {},
     "output_type": "execute_result"
    }
   ],
   "source": [
    "txt"
   ]
  },
  {
   "cell_type": "code",
   "execution_count": null,
   "metadata": {},
   "outputs": [],
   "source": []
  }
 ],
 "metadata": {
  "kernelspec": {
   "display_name": "Python 3",
   "language": "python",
   "name": "python3"
  },
  "language_info": {
   "codemirror_mode": {
    "name": "ipython",
    "version": 3
   },
   "file_extension": ".py",
   "mimetype": "text/x-python",
   "name": "python",
   "nbconvert_exporter": "python",
   "pygments_lexer": "ipython3",
   "version": "3.11.3"
  },
  "orig_nbformat": 4
 },
 "nbformat": 4,
 "nbformat_minor": 2
}
