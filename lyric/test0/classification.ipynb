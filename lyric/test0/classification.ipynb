{
 "cells": [
  {
   "attachments": {},
   "cell_type": "markdown",
   "metadata": {},
   "source": [
    "# Importing Libraries"
   ]
  },
  {
   "cell_type": "code",
   "execution_count": 1,
   "metadata": {},
   "outputs": [],
   "source": [
    "import cv2\n",
    "import numpy as np\n",
    "import ftfy\n",
    "import pytesseract\n",
    "from PIL import Image\n",
    "import regex\n",
    "from fuzzywuzzy import fuzz"
   ]
  },
  {
   "attachments": {},
   "cell_type": "markdown",
   "metadata": {},
   "source": [
    "# OCR"
   ]
  },
  {
   "cell_type": "code",
   "execution_count": 2,
   "metadata": {},
   "outputs": [],
   "source": [
    "def OCR(imgpath):\n",
    "    img = cv2.imread(imgpath)\n",
    "    # img = cv2.resize(img, None, fx=2, fy=2,interpolation=cv2.INTER_CUBIC)\n",
    "    img = cv2.cvtColor(img, cv2.COLOR_BGR2GRAY)\n",
    "    pytesseract.pytesseract.tesseract_cmd = 'C:/Program Files/Tesseract-OCR/tesseract.exe'\n",
    "    text = pytesseract.image_to_string(img, lang = 'eng+hin')\n",
    "    text = ftfy.fix_text(text)\n",
    "    text = ftfy.fix_encoding(text)\n",
    "    return text"
   ]
  },
  {
   "attachments": {},
   "cell_type": "markdown",
   "metadata": {},
   "source": [
    "# Fuzzy substring match"
   ]
  },
  {
   "cell_type": "code",
   "execution_count": 3,
   "metadata": {},
   "outputs": [],
   "source": [
    "def fuzzMatch( major, minor, errs = 4, threshold = 65 ):\n",
    "    errs_ = 0\n",
    "    major = major.lower()\n",
    "    minor = minor.lower()\n",
    "    s = regex.search(f\"({minor}){{e<={errs_}}}\", major)\n",
    "    while s is None and errs_ <= errs:\n",
    "        errs_ += 1\n",
    "        s = regex.search(f\"({minor}){{e<={errs_}}}\", major)\n",
    "    if(fuzz.token_set_ratio(minor,s)>threshold):\n",
    "        return 1\n",
    "    else:\n",
    "        return 0"
   ]
  },
  {
   "attachments": {},
   "cell_type": "markdown",
   "metadata": {},
   "source": [
    "# Defining identification words"
   ]
  },
  {
   "cell_type": "code",
   "execution_count": 4,
   "metadata": {},
   "outputs": [],
   "source": [
    "idKeyWords = {\"PAN\":[\"income\",\"permanent\",\"account\"],\"DL\":[\"driving\",\"drive\",\"dl no\",\"transport\"], \"Passport\": [\"republic\",\"passport\"],\"Aadhaar\":[\"aadhaar\",\"आधार\",\"uidai\"]}"
   ]
  },
  {
   "attachments": {},
   "cell_type": "markdown",
   "metadata": {},
   "source": [
    "# Classification"
   ]
  },
  {
   "cell_type": "code",
   "execution_count": 5,
   "metadata": {},
   "outputs": [],
   "source": [
    "def classify(text):\n",
    "    for key in idKeyWords:\n",
    "        for word in idKeyWords[key]:\n",
    "            if(fuzzMatch(text,word)):\n",
    "                return key\n",
    "    return \"other\"    \n",
    "    "
   ]
  },
  {
   "cell_type": "code",
   "execution_count": null,
   "metadata": {},
   "outputs": [],
   "source": [
    "# def isAadhar(ocrTxt):\n",
    "#     res = ocrTxt.split()\n",
    "#     for i in range(len(res) - 3):\n",
    "#         check = 1\n",
    "#         for j in range(3):\n",
    "#             check = check and len(res[i+j]) == 4 and res[i+j].isdigit()\n",
    "#         if(check):\n",
    "#             return 1"
   ]
  },
  {
   "attachments": {},
   "cell_type": "markdown",
   "metadata": {},
   "source": [
    "# main function"
   ]
  },
  {
   "cell_type": "code",
   "execution_count": 6,
   "metadata": {},
   "outputs": [],
   "source": [
    "def segregate(filepaths):\n",
    "    classifiedDict = {\"PAN\":[],\"DL\":[],\"Passport\":[],\"Aadhaar\":[],\"other\":[]}\n",
    "    for path in filepaths:\n",
    "        ocrTxt = OCR(path).lower()\n",
    "        doctype = classify(ocrTxt)\n",
    "        if(doctype==\"other\"):\n",
    "            res = ocrTxt.split()\n",
    "            for i in range(len(res) - 3):\n",
    "                check = 1\n",
    "                for j in range(3):\n",
    "                    check = check and len(res[i+j]) == 4 and res[i+j].isdigit()\n",
    "                # check = check and (\"male\" in res or \"female\" in res)\n",
    "                if(check):\n",
    "                    doctype = \"Aadhaar\"\n",
    "        classifiedDict[doctype].append(path)\n",
    "    return classifiedDict"
   ]
  },
  {
   "attachments": {},
   "cell_type": "markdown",
   "metadata": {},
   "source": [
    "# Example"
   ]
  },
  {
   "cell_type": "code",
   "execution_count": 7,
   "metadata": {},
   "outputs": [],
   "source": [
    "filepaths = [\"aadhar.png\",\"aadharlk.png\",\"aadharlkb.png\",\"image.jpg\"]"
   ]
  },
  {
   "cell_type": "code",
   "execution_count": 8,
   "metadata": {},
   "outputs": [],
   "source": [
    "classifieddict = segregate(filepaths)"
   ]
  },
  {
   "cell_type": "code",
   "execution_count": 9,
   "metadata": {},
   "outputs": [
    {
     "data": {
      "text/plain": [
       "{'PAN': ['image.jpg'],\n",
       " 'DL': [],\n",
       " 'Passport': [],\n",
       " 'Aadhaar': ['aadhar.png', 'aadharlk.png', 'aadharlkb.png'],\n",
       " 'other': []}"
      ]
     },
     "execution_count": 9,
     "metadata": {},
     "output_type": "execute_result"
    }
   ],
   "source": [
    "classifieddict"
   ]
  },
  {
   "cell_type": "code",
   "execution_count": 10,
   "metadata": {},
   "outputs": [],
   "source": [
    "txt = OCR(\"aadharlkb.png\").lower()"
   ]
  },
  {
   "cell_type": "code",
   "execution_count": 11,
   "metadata": {},
   "outputs": [
    {
     "data": {
      "text/plain": [
       "'Aadhaar'"
      ]
     },
     "execution_count": 11,
     "metadata": {},
     "output_type": "execute_result"
    }
   ],
   "source": [
    "classify(txt)"
   ]
  },
  {
   "cell_type": "code",
   "execution_count": 12,
   "metadata": {},
   "outputs": [],
   "source": [
    "res = txt.split()\n"
   ]
  },
  {
   "cell_type": "code",
   "execution_count": 13,
   "metadata": {},
   "outputs": [
    {
     "name": "stdout",
     "output_type": "stream",
     "text": [
      "5249\n"
     ]
    }
   ],
   "source": [
    "for i in range(len(res) - 3):\n",
    "    check = 1\n",
    "    for j in range(3):\n",
    "        check = check and len(res[i+j]) == 4 and res[i+j].isdigit()\n",
    "    if(check):\n",
    "        print(res[i])"
   ]
  },
  {
   "cell_type": "code",
   "execution_count": 14,
   "metadata": {},
   "outputs": [
    {
     "data": {
      "text/plain": [
       "False"
      ]
     },
     "execution_count": 14,
     "metadata": {},
     "output_type": "execute_result"
    }
   ],
   "source": [
    "(\"male\" in res or \"female\" in res)"
   ]
  },
  {
   "cell_type": "code",
   "execution_count": 15,
   "metadata": {},
   "outputs": [
    {
     "data": {
      "text/plain": [
       "['भारतीय',\n",
       " 'विशिष्ट',\n",
       " 'पहचान',\n",
       " 'प्राधिकरण',\n",
       " 'unique',\n",
       " '1ठशञाशीदयांगा',\n",
       " '#प019',\n",
       " 'छ',\n",
       " 'का',\n",
       " 'saba',\n",
       " 'खरे,',\n",
       " 'हाउस',\n",
       " 'न.',\n",
       " '-26,',\n",
       " 'गंगा',\n",
       " 'विहार,',\n",
       " 'करोली',\n",
       " 'माता',\n",
       " 'io,',\n",
       " 'मंदिर',\n",
       " 'के',\n",
       " 'पास,',\n",
       " 'महलगाँव,',\n",
       " 'गिर्द,',\n",
       " 'ग्वालियर,',\n",
       " 'मध्य',\n",
       " 'प्रदेश',\n",
       " '-',\n",
       " '474002',\n",
       " 'address:',\n",
       " 'umashankar',\n",
       " 'khare,',\n",
       " 'house',\n",
       " 'no.',\n",
       " '-26,',\n",
       " 'ganga',\n",
       " 'vihar,',\n",
       " 'near',\n",
       " 'karoli',\n",
       " 'mata',\n",
       " 'mandir,',\n",
       " 'mahalgaon,',\n",
       " 'gird,',\n",
       " 'gwalior,',\n",
       " 'madhya',\n",
       " 'pradesh',\n",
       " '-',\n",
       " '474002',\n",
       " '5249',\n",
       " '1788',\n",
       " '9093',\n",
       " 'pci',\n",
       " '::',\n",
       " '9189',\n",
       " '8672.',\n",
       " '4995.',\n",
       " '5674',\n",
       " 'gbi007_',\n",
       " '|',\n",
       " 'a',\n",
       " 'helpe@uidai.gov.iin',\n",
       " '|',\n",
       " 'gd',\n",
       " 'www.uidai.gov.in']"
      ]
     },
     "execution_count": 15,
     "metadata": {},
     "output_type": "execute_result"
    }
   ],
   "source": [
    "res"
   ]
  },
  {
   "cell_type": "code",
   "execution_count": 16,
   "metadata": {},
   "outputs": [
    {
     "data": {
      "text/plain": [
       "'भारतीय विशिष्ट पहचान प्राधिकरण\\nunique 1ठशञाशीदयांगा #प019 छ का\\n\\nsaba खरे, हाउस न. -26, गंगा विहार, करोली माता io,\\nमंदिर के पास, महलगाँव, गिर्द, ग्वालियर,\\nमध्य प्रदेश - 474002\\n\\naddress:\\n\\numashankar khare, house no. -26,\\nganga vihar, near karoli mata mandir,\\nmahalgaon, gird, gwalior,\\n\\nmadhya pradesh - 474002\\n\\n5249 1788 9093\\n\\npci :: 9189 8672. 4995. 5674\\n\\ngbi007_ | a helpe@uidai.gov.iin | gd www.uidai.gov.in\\n\\n'"
      ]
     },
     "execution_count": 16,
     "metadata": {},
     "output_type": "execute_result"
    }
   ],
   "source": [
    "txt"
   ]
  },
  {
   "cell_type": "code",
   "execution_count": null,
   "metadata": {},
   "outputs": [],
   "source": []
  }
 ],
 "metadata": {
  "kernelspec": {
   "display_name": "Python 3 (ipykernel)",
   "language": "python",
   "name": "python3"
  },
  "language_info": {
   "codemirror_mode": {
    "name": "ipython",
    "version": 3
   },
   "file_extension": ".py",
   "mimetype": "text/x-python",
   "name": "python",
   "nbconvert_exporter": "python",
   "pygments_lexer": "ipython3",
   "version": "3.11.3"
  }
 },
 "nbformat": 4,
 "nbformat_minor": 2
}
