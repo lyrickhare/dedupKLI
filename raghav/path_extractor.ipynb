{
 "cells": [
  {
   "cell_type": "code",
   "execution_count": 2,
   "metadata": {},
   "outputs": [
    {
     "name": "stdout",
     "output_type": "stream",
     "text": [
      "[WindowsPath('proposal/proposal1/aadhar.jpeg'), WindowsPath('proposal/proposal1/img.jpeg')]\n",
      "[WindowsPath('proposal/proposal2/pan.jpeg')]\n",
      "[WindowsPath('proposal/proposal3/voter.png')]\n"
     ]
    }
   ],
   "source": [
    "import os\n",
    "import pathlib\n",
    "from pathlib import Path\n",
    "path = './proposal'\n",
    "\n",
    "myFolder = list()\n",
    "for dirname in os.listdir(path):\n",
    "    f = os.path.join(path,dirname)\n",
    "    if os.path.isdir(f):\n",
    "        myFolder.append(f)\n",
    "for folder in myFolder:\n",
    "    img_file = list(Path(folder).rglob(\"*\"))\n",
    "    #-----pass this list to the functions inside the loop-----#\n",
    "    print(img_file)\n",
    "    "
   ]
  },
  {
   "cell_type": "code",
   "execution_count": null,
   "metadata": {},
   "outputs": [],
   "source": []
  }
 ],
 "metadata": {
  "kernelspec": {
   "display_name": "Python 3",
   "language": "python",
   "name": "python3"
  },
  "language_info": {
   "codemirror_mode": {
    "name": "ipython",
    "version": 3
   },
   "file_extension": ".py",
   "mimetype": "text/x-python",
   "name": "python",
   "nbconvert_exporter": "python",
   "pygments_lexer": "ipython3",
   "version": "3.10.4"
  },
  "orig_nbformat": 4
 },
 "nbformat": 4,
 "nbformat_minor": 2
}
