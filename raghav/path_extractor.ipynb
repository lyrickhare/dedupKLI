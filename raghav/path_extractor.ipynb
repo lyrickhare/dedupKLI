{
 "cells": [
  {
   "cell_type": "code",
   "execution_count": 141,
   "metadata": {
    "scrolled": true
   },
   "outputs": [],
   "source": [
    "import os\n",
    "import pathlib\n",
    "from pathlib import Path\n",
    "import sys  \n",
    "sys.path.insert(0, '../main/classify')\n",
    "import segregate\n",
    "sys.path.insert(0,'../main/dedup')\n",
    "import bestquality\n",
    "path = './proposal'\n",
    "path1 = './proposal_mod'\n",
    "os.mkdir(path1)\n",
    "\n",
    "proposal_list = os.listdir(path)\n",
    "\n",
    "for i in proposal_list:\n",
    "    path_final = path1 + '/' + i\n",
    "    os.mkdir(Path(path_final))"
   ]
  },
  {
   "cell_type": "code",
   "execution_count": 142,
   "metadata": {},
   "outputs": [],
   "source": [
    "import shutil\n",
    "import cv2"
   ]
  },
  {
   "cell_type": "code",
   "execution_count": 143,
   "metadata": {},
   "outputs": [],
   "source": [
    "dict_count = {'Total Proposals': 0, 'Images Processed': 0, 'Duplicate Images': 0, 'Documents recognized': 0, 'Images Saved':0, 'Other Files':0}\n",
    "dict_count['Total Proposals'] = len(proposal_list)"
   ]
  },
  {
   "cell_type": "code",
   "execution_count": 144,
   "metadata": {},
   "outputs": [],
   "source": [
    "for i in os.listdir('./proposal_mod'):\n",
    "    path_Aadhaar = './proposal_mod/'+i+'/Aadhaar'\n",
    "    path_PAN = './proposal_mod/'+i+'/PAN'\n",
    "    path_other = './proposal_mod/'+i+'/other'\n",
    "    path_DL = './proposal_mod/'+i+'/DL'\n",
    "    path_Passport = './proposal_mod/'+i+'/Passport'\n",
    "    os.mkdir(path_Aadhaar)\n",
    "    os.mkdir(path_PAN)\n",
    "    os.mkdir(path_other)\n",
    "    os.mkdir(path_DL)\n",
    "    os.mkdir(path_Passport)"
   ]
  },
  {
   "cell_type": "code",
   "execution_count": 145,
   "metadata": {
    "scrolled": true
   },
   "outputs": [
    {
     "name": "stdout",
     "output_type": "stream",
     "text": [
      "Aadhaar\n",
      "other\n",
      "Aadhaar\n",
      "PAN\n",
      "Aadhaar\n",
      "other\n"
     ]
    }
   ],
   "source": [
    "myFolder = list()\n",
    "pos = 0\n",
    "other_count = 0\n",
    "list_new = os.listdir('./proposal_mod')\n",
    "for dirname in os.listdir(path):\n",
    "    f = os.path.join(path,dirname)\n",
    "    if os.path.isdir(f):\n",
    "        myFolder.append(f)\n",
    "for folder in myFolder:\n",
    "    img_file = list(Path(folder).rglob(\"*\"))\n",
    "    img_file1 = [str(i) for i in img_file]\n",
    "    dict1 = segregate.segregate(img_file1)\n",
    "    dict_count['Images Processed']+=sum(map(len, dict1.values()))\n",
    "    dict2 = bestquality.bestquality(dict1)\n",
    "    dict2 = {i:j for i,j in dict2.items() if j != ['']}\n",
    "    dict_count['Images Saved']+=sum(map(len, dict2.values()))\n",
    "    for i in dict2:\n",
    "        if(i=='other'):\n",
    "            dict_count['Other Files']+=len(dict2['other'])\n",
    "    \n",
    "    for j in os.listdir('./proposal_mod/'+list_new[pos]):\n",
    "        for k in dict2:\n",
    "            if(j==k and k!='other' and j!='other')\n",
    "                shutil.copy(Path(str(dict2[k]).replace(\"[\",\"\").replace(\"]\",\"\").replace(\"'\",\"\").replace(\" \",\"\")),Path('./proposal_mod/'+list_new[pos]+'/'+j))\n",
    "            elif(j==k and k=='other' and dict2['other']!=[]):\n",
    "                print(j)\n",
    "                other_list = str(dict2['other']).split(',')\n",
    "                for l in other_list:\n",
    "                    shutil.copy(Path(str(l).replace(\"[\",\"\").replace(\"]\",\"\").replace(\"'\",\"\").replace(\" \",\"\")),Path('./proposal_mod/'+list_new[pos]+'/'+j))\n",
    "    pos = pos + 1"
   ]
  },
  {
   "cell_type": "code",
   "execution_count": 146,
   "metadata": {},
   "outputs": [
    {
     "data": {
      "text/plain": [
       "[None, None, None, None, None, None, None, None, None]"
      ]
     },
     "execution_count": 146,
     "metadata": {},
     "output_type": "execute_result"
    }
   ],
   "source": [
    "[os.removedirs(p) for p in Path('./proposal_mod').glob('**/*') if p.is_dir() and len(list(p.iterdir())) == 0]"
   ]
  },
  {
   "cell_type": "code",
   "execution_count": 147,
   "metadata": {},
   "outputs": [
    {
     "name": "stdout",
     "output_type": "stream",
     "text": [
      "{'Total Proposals': 3, 'Images Processed': 10, 'Duplicate Images': 2, 'Documents recognized': 4, 'Images Saved': 8, 'Other Files': 4}\n"
     ]
    }
   ],
   "source": [
    "dict_count['Duplicate Images'] = dict_count['Images Processed'] - dict_count['Images Saved']\n",
    "dict_count['Documents recognized'] = dict_count['Images Saved'] - dict_count['Other Files']\n",
    "print(dict_count)"
   ]
  },
  {
   "cell_type": "code",
   "execution_count": null,
   "metadata": {},
   "outputs": [],
   "source": [
    "\n"
   ]
  },
  {
   "cell_type": "code",
   "execution_count": null,
   "metadata": {},
   "outputs": [],
   "source": []
  },
  {
   "cell_type": "code",
   "execution_count": null,
   "metadata": {},
   "outputs": [],
   "source": []
  }
 ],
 "metadata": {
  "kernelspec": {
   "display_name": "Python 3",
   "language": "python",
   "name": "python3"
  },
  "language_info": {
   "codemirror_mode": {
    "name": "ipython",
    "version": 3
   },
   "file_extension": ".py",
   "mimetype": "text/x-python",
   "name": "python",
   "nbconvert_exporter": "python",
   "pygments_lexer": "ipython3",
   "version": "3.9.4"
  }
 },
 "nbformat": 4,
 "nbformat_minor": 2
}
