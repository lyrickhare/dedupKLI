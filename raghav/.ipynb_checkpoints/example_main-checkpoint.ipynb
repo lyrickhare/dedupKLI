{
 "cells": [
  {
   "cell_type": "code",
   "execution_count": 3,
   "id": "be33af33",
   "metadata": {},
   "outputs": [],
   "source": [
    "import sys  \n",
    "sys.path.insert(0, '../main')\n",
    "import main"
   ]
  },
  {
   "cell_type": "code",
   "execution_count": 4,
   "id": "984c75bc",
   "metadata": {},
   "outputs": [
    {
     "name": "stdout",
     "output_type": "stream",
     "text": [
      "Total Proposals  :  3\n",
      "Images Processed  :  8\n",
      "Duplicate Images  :  2\n",
      "Documents recognized  :  4\n",
      "Images Saved  :  6\n",
      "Other Files  :  2\n"
     ]
    }
   ],
   "source": [
    "main.main('./proposal','./proposal_mod')"
   ]
  },
  {
   "cell_type": "code",
   "execution_count": null,
   "id": "1f780c42",
   "metadata": {},
   "outputs": [],
   "source": []
  }
 ],
 "metadata": {
  "kernelspec": {
   "display_name": "Python 3",
   "language": "python",
   "name": "python3"
  },
  "language_info": {
   "codemirror_mode": {
    "name": "ipython",
    "version": 3
   },
   "file_extension": ".py",
   "mimetype": "text/x-python",
   "name": "python",
   "nbconvert_exporter": "python",
   "pygments_lexer": "ipython3",
   "version": "3.9.4"
  }
 },
 "nbformat": 4,
 "nbformat_minor": 5
}
