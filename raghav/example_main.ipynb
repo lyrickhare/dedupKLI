{
 "cells": [
  {
   "cell_type": "code",
   "execution_count": 1,
   "id": "be33af33",
   "metadata": {},
   "outputs": [
    {
     "name": "stderr",
     "output_type": "stream",
     "text": [
      "C:\\Users\\Admin\\miniconda3\\envs\\py3k\\lib\\site-packages\\fuzzywuzzy\\fuzz.py:11: UserWarning: Using slow pure-python SequenceMatcher. Install python-Levenshtein to remove this warning\n",
      "  warnings.warn('Using slow pure-python SequenceMatcher. Install python-Levenshtein to remove this warning')\n"
     ]
    }
   ],
   "source": [
    "import sys  \n",
    "sys.path.insert(0, '../main')\n",
    "import main"
   ]
  },
  {
   "cell_type": "code",
   "execution_count": 3,
   "id": "984c75bc",
   "metadata": {},
   "outputs": [],
   "source": [
    "main.main('./proposal','./proposal_mod')"
   ]
  },
  {
   "cell_type": "code",
   "execution_count": null,
   "id": "1f780c42",
   "metadata": {},
   "outputs": [],
   "source": []
  }
 ],
 "metadata": {
  "kernelspec": {
   "display_name": "Python 3",
   "language": "python",
   "name": "python3"
  },
  "language_info": {
   "codemirror_mode": {
    "name": "ipython",
    "version": 3
   },
   "file_extension": ".py",
   "mimetype": "text/x-python",
   "name": "python",
   "nbconvert_exporter": "python",
   "pygments_lexer": "ipython3",
   "version": "3.9.4"
  }
 },
 "nbformat": 4,
 "nbformat_minor": 5
}
