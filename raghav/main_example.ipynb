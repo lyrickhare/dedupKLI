{
 "cells": [
  {
   "cell_type": "code",
   "execution_count": 5,
   "id": "a33b7ddf",
   "metadata": {},
   "outputs": [],
   "source": [
    "import sys\n",
    "sys.path.insert(0,'../main')\n",
    "import main"
   ]
  },
  {
   "cell_type": "code",
   "execution_count": 6,
   "id": "4e23a721",
   "metadata": {},
   "outputs": [
    {
     "name": "stdout",
     "output_type": "stream",
     "text": [
      "{'Aadhaar': ['proposal\\\\proposal1\\\\aadhar.jpeg'], 'other': ['proposal\\\\proposal1\\\\img.jpeg', 'proposal\\\\proposal1\\\\voter.png']}\n",
      "{'PAN': ['proposal\\\\proposal2\\\\img1.jpg'], 'Aadhaar': ['proposal\\\\proposal2\\\\aadhar.png'], 'other': []}\n",
      "{'Aadhaar': ['proposal\\\\proposal3\\\\aadhar.png'], 'other': ['proposal\\\\proposal3\\\\random1.png', 'proposal\\\\proposal3\\\\random2.png']}\n",
      "Total Proposals  :  3\n",
      "Images Processed  :  10\n",
      "Duplicate Images  :  2\n",
      "Documents recognized  :  4\n",
      "Images Saved  :  8\n",
      "Other Files  :  4\n",
      "{}\n"
     ]
    }
   ],
   "source": [
    "main.main('./proposal','./proposal_mod')"
   ]
  },
  {
   "cell_type": "code",
   "execution_count": null,
   "id": "f6812555",
   "metadata": {},
   "outputs": [],
   "source": []
  }
 ],
 "metadata": {
  "kernelspec": {
   "display_name": "Python 3",
   "language": "python",
   "name": "python3"
  },
  "language_info": {
   "codemirror_mode": {
    "name": "ipython",
    "version": 3
   },
   "file_extension": ".py",
   "mimetype": "text/x-python",
   "name": "python",
   "nbconvert_exporter": "python",
   "pygments_lexer": "ipython3",
   "version": "3.9.4"
  }
 },
 "nbformat": 4,
 "nbformat_minor": 5
}
