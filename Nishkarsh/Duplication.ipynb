{
 "cells": [
  {
   "cell_type": "code",
   "execution_count": 5,
   "metadata": {},
   "outputs": [
    {
     "name": "stdout",
     "output_type": "stream",
     "text": [
      "1139.43183372516\n",
      "435.8526933501872\n",
      "img2 is blurry\n"
     ]
    }
   ],
   "source": [
    "import cv2\n",
    "def var(imgPath):\n",
    "    img = cv2.imread(imgPath)\n",
    "    #img = cv2.resize(img, None, fx=2, fy=2,interpolation=cv2.INTER_CUBIC)\n",
    "    img = cv2.cvtColor(img, cv2.COLOR_BGR2GRAY)\n",
    "    var = cv2.Laplacian(img, cv2.CV_64F).var()\n",
    "    print (var)\n",
    "    return var\n",
    "img1 = 'img1.jpg'\n",
    "img2 = 'img2.jpg'\n",
    "if(var(img1)<var(img2)):\n",
    "    print(\"img1 is blurry\")\n",
    "else:\n",
    "    print(\"img2 is blurry\")"
   ]
  },
  {
   "cell_type": "code",
   "execution_count": null,
   "metadata": {},
   "outputs": [],
   "source": []
  }
 ],
 "metadata": {
  "kernelspec": {
   "display_name": "Python 3",
   "language": "python",
   "name": "python3"
  },
  "language_info": {
   "codemirror_mode": {
    "name": "ipython",
    "version": 3
   },
   "file_extension": ".py",
   "mimetype": "text/x-python",
   "name": "python",
   "nbconvert_exporter": "python",
   "pygments_lexer": "ipython3",
   "version": "3.9.13"
  },
  "orig_nbformat": 4,
  "vscode": {
   "interpreter": {
    "hash": "f8f14f5a7c49a331ac7a55934b43ce13bd28be1333db14e2d71768ad3378996c"
   }
  }
 },
 "nbformat": 4,
 "nbformat_minor": 2
}
