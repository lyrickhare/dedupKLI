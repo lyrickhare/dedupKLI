{
 "cells": [
  {
   "cell_type": "code",
   "execution_count": 6,
   "metadata": {},
   "outputs": [],
   "source": [
    "import cv2\n",
    "\n",
    "def var(imgPath):\n",
    "    img = cv2.imread(imgPath)\n",
    "    #img = cv2.resize(img, None, fx=2, fy=2,interpolation=cv2.INTER_CUBIC)\n",
    "    img = cv2.cvtColor(img, cv2.COLOR_BGR2GRAY)\n",
    "    var = cv2.Laplacian(img, cv2.CV_64F).var()\n",
    "    return var\n",
    "\n",
    "\n",
    "# len(classifiedDict)\n",
    "# arr= [len(classifiedDict['PAN']), len(classifiedDict['DL']), len(classifiedDict['Passport']), len(classifiedDict['Aadhaar']),len(classifiedDict['other'])]\n",
    "# x = len(arr)\n",
    "# doct = [\"PAN\",\"DL\",\"Passport\",\"Aadhaar\",\"other\"]\n",
    "\n",
    "# classifiedDict[\"Aadhaar\"][0]\n",
    "def bestquality(classifiedDict):\n",
    "    singleDict = {\"PAN\":[],\"DL\":[],\"Passport\":[],\"Aadhaar\":[],\"other\":[]}\n",
    "    for key in classifiedDict: \n",
    "        varv = 0\n",
    "        pathv =\"\"\n",
    "        for path in classifiedDict[key]:\n",
    "            varc = var(path)\n",
    "            if (varc>varv):\n",
    "                varv = varc\n",
    "                pathv = path\n",
    "        singleDict[key].append(pathv)\n",
    "    return singleDict\n"
   ]
  },
  {
   "cell_type": "code",
   "execution_count": 7,
   "metadata": {},
   "outputs": [
    {
     "data": {
      "text/plain": [
       "{'PAN': ['image.jpg'],\n",
       " 'DL': [''],\n",
       " 'Passport': [''],\n",
       " 'Aadhaar': ['aadharlkb.png'],\n",
       " 'other': ['']}"
      ]
     },
     "execution_count": 7,
     "metadata": {},
     "output_type": "execute_result"
    }
   ],
   "source": [
    "classifiedDict = {\"PAN\":['image.jpg'],\"DL\":[],\"Passport\":[],\"Aadhaar\":['aadhar.png', 'aadharlk.png', 'aadharlkb.png'],\"other\":[]}\n",
    "bestquality(classifiedDict)"
   ]
  },
  {
   "cell_type": "code",
   "execution_count": 4,
   "metadata": {},
   "outputs": [
    {
     "name": "stdout",
     "output_type": "stream",
     "text": [
      "735.1679847693001\n"
     ]
    },
    {
     "data": {
      "text/plain": [
       "735.1679847693001"
      ]
     },
     "execution_count": 4,
     "metadata": {},
     "output_type": "execute_result"
    }
   ],
   "source": [
    "import "
   ]
  }
 ],
 "metadata": {
  "kernelspec": {
   "display_name": "Python 3 (ipykernel)",
   "language": "python",
   "name": "python3"
  },
  "language_info": {
   "codemirror_mode": {
    "name": "ipython",
    "version": 3
   },
   "file_extension": ".py",
   "mimetype": "text/x-python",
   "name": "python",
   "nbconvert_exporter": "python",
   "pygments_lexer": "ipython3",
   "version": "3.9.13"
  },
  "vscode": {
   "interpreter": {
    "hash": "f8f14f5a7c49a331ac7a55934b43ce13bd28be1333db14e2d71768ad3378996c"
   }
  }
 },
 "nbformat": 4,
 "nbformat_minor": 2
}
