{
 "cells": [
  {
   "cell_type": "code",
   "execution_count": 72,
   "metadata": {},
   "outputs": [],
   "source": [
    "import cv2\n",
    "import numpy as np\n",
    "def var(imgPath):\n",
    "    img = cv2.imread(imgPath)\n",
    "    #img = cv2.resize(img, None, fx=2, fy=2,interpolation=cv2.INTER_CUBIC)\n",
    "    img = cv2.cvtColor(img, cv2.COLOR_BGR2GRAY)\n",
    "    var = cv2.Laplacian(img, cv2.CV_64F).var()\n",
    "    return var\n",
    "def exactSame(img1pth,img2pth):\n",
    "    if(open(img1pth,\"rb\").read() == open(img2pth,\"rb\").read()):\n",
    "        return 1\n",
    "    else:\n",
    "        return 0\n",
    "\n",
    "    # img1 = cv2.imread(img1pth)\n",
    "    # img2 = cv2.imread(img2pth)\n",
    "    # img1 = cv2.resize(img1, None, fx=2, fy=2,interpolation=cv2.INTER_CUBIC)\n",
    "    # img2 = cv2.resize(img2, None, fx=2, fy=2,interpolation=cv2.INTER_CUBIC)\n",
    "    # img1 = cv2.cvtColor(img1, cv2.COLOR_BGR2GRAY)\n",
    "    # img2 = cv2.cvtColor(img2, cv2.COLOR_BGR2GRAY)\n",
    "    # h, w = img1.shape\n",
    "    # diff = cv2.subtract(img1, img2)\n",
    "    # err = np.sum(diff**2)\n",
    "    # mse = err/(float(h*w))\n",
    "    \n",
    "\n",
    "\n",
    "def bestquality(classifiedDict):\n",
    "    singleDict = {\"PAN\":[],\"DL\":[],\"Passport\":[],\"Aadhaar\":[],\"other\":[]}\n",
    "    for key in classifiedDict: \n",
    "        if(key!=\"other\"):\n",
    "            varv = 0\n",
    "            pathv =\"\"\n",
    "            for path in classifiedDict[key]:\n",
    "                varc = var(path)\n",
    "                if (varc>varv):\n",
    "                    varv = varc\n",
    "                    pathv = path\n",
    "            singleDict[key].append(pathv)\n",
    "        else:\n",
    "            l = len(classifiedDict[\"other\"])\n",
    "            singleDict[\"other\"] = classifiedDict[\"other\"]\n",
    "            pop = set()\n",
    "            for i in range(l):\n",
    "                for j in range(i+1,l):\n",
    "                    if(exactSame(classifiedDict[\"other\"][i],classifiedDict[\"other\"][j])):\n",
    "                        pop.add(j)\n",
    "                    else:\n",
    "                        pass\n",
    "            for i in sorted(pop, reverse=True):\n",
    "                del singleDict[\"other\"][i]\n",
    "    return singleDict\n"
   ]
  },
  {
   "cell_type": "code",
   "execution_count": 73,
   "metadata": {},
   "outputs": [
    {
     "data": {
      "text/plain": [
       "{'PAN': ['image.jpg'],\n",
       " 'DL': [''],\n",
       " 'Passport': [''],\n",
       " 'Aadhaar': ['aadharlkb.png'],\n",
       " 'other': ['aadhar.png', 'aadharlkb.png']}"
      ]
     },
     "execution_count": 73,
     "metadata": {},
     "output_type": "execute_result"
    }
   ],
   "source": [
    "classifiedDict = {\"PAN\":['image.jpg'],\"DL\":[],\"Passport\":[],\"Aadhaar\":['aadhar.png', 'aadharlk.png', 'aadharlkb.png'],\"other\":['aadhar.png','aadhar.png','aadhar.png','aadharlkb.png']}\n",
    "bestquality(classifiedDict)"
   ]
  },
  {
   "cell_type": "code",
   "execution_count": null,
   "metadata": {},
   "outputs": [],
   "source": []
  }
 ],
 "metadata": {
  "kernelspec": {
   "display_name": "Python 3 (ipykernel)",
   "language": "python",
   "name": "python3"
  },
  "language_info": {
   "codemirror_mode": {
    "name": "ipython",
    "version": 3
   },
   "file_extension": ".py",
   "mimetype": "text/x-python",
   "name": "python",
   "nbconvert_exporter": "python",
   "pygments_lexer": "ipython3",
   "version": "3.11.3"
  },
  "vscode": {
   "interpreter": {
    "hash": "f8f14f5a7c49a331ac7a55934b43ce13bd28be1333db14e2d71768ad3378996c"
   }
  }
 },
 "nbformat": 4,
 "nbformat_minor": 2
}
