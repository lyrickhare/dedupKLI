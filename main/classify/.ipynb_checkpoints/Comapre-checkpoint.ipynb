{
 "cells": [
  {
   "cell_type": "code",
   "execution_count": null,
   "metadata": {},
   "outputs": [
    {
     "ename": "TypeError",
     "evalue": "'dict' object is not callable",
     "output_type": "error",
     "traceback": [
      "\u001b[1;31m---------------------------------------------------------------------------\u001b[0m",
      "\u001b[1;31mTypeError\u001b[0m                                 Traceback (most recent call last)",
      "Cell \u001b[1;32mIn[16], line 17\u001b[0m\n\u001b[0;32m     14\u001b[0m x \u001b[39m=\u001b[39m \u001b[39mlen\u001b[39m(arr)\n\u001b[0;32m     15\u001b[0m doct \u001b[39m=\u001b[39m [\u001b[39m\"\u001b[39m\u001b[39mPAN\u001b[39m\u001b[39m\"\u001b[39m,\u001b[39m\"\u001b[39m\u001b[39mDL\u001b[39m\u001b[39m\"\u001b[39m,\u001b[39m\"\u001b[39m\u001b[39mPassport\u001b[39m\u001b[39m\"\u001b[39m,\u001b[39m\"\u001b[39m\u001b[39mAadhaar\u001b[39m\u001b[39m\"\u001b[39m,\u001b[39m\"\u001b[39m\u001b[39mother\u001b[39m\u001b[39m\"\u001b[39m]\n\u001b[1;32m---> 17\u001b[0m classifiedDict([doct[\u001b[39m4\u001b[39;49m]][\u001b[39m0\u001b[39;49m])\n\u001b[0;32m     19\u001b[0m \u001b[39m# for i in (len(arr)):\u001b[39;00m\n\u001b[0;32m     20\u001b[0m \u001b[39m#     if (arr[i]<=1):\u001b[39;00m\n\u001b[0;32m     21\u001b[0m \u001b[39m#         break\u001b[39;00m\n\u001b[1;32m   (...)\u001b[0m\n\u001b[0;32m     24\u001b[0m \u001b[39m#         for j in (arr[i]):\u001b[39;00m\n\u001b[0;32m     25\u001b[0m \u001b[39m#         if \u001b[39;00m\n",
      "\u001b[1;31mTypeError\u001b[0m: 'dict' object is not callable"
     ]
    }
   ],
   "source": [
    "import cv2\n",
    "\n",
    "def var(imgPath):\n",
    "    img = cv2.imread(imgPath)\n",
    "    #img = cv2.resize(img, None, fx=2, fy=2,interpolation=cv2.INTER_CUBIC)\n",
    "    img = cv2.cvtColor(img, cv2.COLOR_BGR2GRAY)\n",
    "    var = cv2.Laplacian(img, cv2.CV_64F).var()\n",
    "    print (var)\n",
    "    return var\n",
    "\n",
    "classifiedDict = {\"PAN\":['image.jpg'],\"DL\":[],\"Passport\":[],\"Aadhaar\":['aadhar.png', 'aadharlk.png', 'aadharlkb.png'],\"other\":[]}\n",
    "# len(classifiedDict)\n",
    "arr= [len(classifiedDict['PAN']), len(classifiedDict['DL']), len(classifiedDict['Passport']), len(classifiedDict['Aadhaar']),len(classifiedDict['other'])]\n",
    "# x = len(arr)\n",
    "# doct = [\"PAN\",\"DL\",\"Passport\",\"Aadhaar\",\"other\"]\n",
    "\n",
    "# classifiedDict[\"Aadhaar\"][0]\n",
    "singleDict = {\"PAN\":[],\"DL\":[],\"Passport\":[],\"Aadhaar\":[],\"other\":[]}\n",
    "for key in classifiedDict: \n",
    "    varv = 0\n",
    "    pathv =\"\"\n",
    "    for path in classifiedDict[key]:\n",
    "        varc = var(path)\n",
    "        if (varc>varv):\n",
    "            varv = varc\n",
    "            pathv = path\n",
    "    singleDict[key].append(pathv)\n"
   ]
  }
 ],
 "metadata": {
  "kernelspec": {
   "display_name": "Python 3 (ipykernel)",
   "language": "python",
   "name": "python3"
  },
  "language_info": {
   "codemirror_mode": {
    "name": "ipython",
    "version": 3
   },
   "file_extension": ".py",
   "mimetype": "text/x-python",
   "name": "python",
   "nbconvert_exporter": "python",
   "pygments_lexer": "ipython3",
   "version": "3.8.5"
  },
  "vscode": {
   "interpreter": {
    "hash": "f8f14f5a7c49a331ac7a55934b43ce13bd28be1333db14e2d71768ad3378996c"
   }
  }
 },
 "nbformat": 4,
 "nbformat_minor": 2
}
